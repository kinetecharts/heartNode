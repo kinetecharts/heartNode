{
 "cells": [
  {
   "cell_type": "markdown",
   "metadata": {},
   "source": [
    "# From heart beat to music\n",
    "### Chamber, murmur and potluck @ Joe Goode, 2017-11-16, 17\n",
    "### Set max midi input to \"to Max 1\""
   ]
  },
  {
   "cell_type": "code",
   "execution_count": 1,
   "metadata": {},
   "outputs": [
    {
     "name": "stdout",
     "output_type": "stream",
     "text": [
      "numPort 3\n",
      "0 'Isadora Virtual In'\n",
      "1 'to Max 1'\n",
      "2 'to Max 2'\n",
      "out put to  to Max 1\n",
      "init Json Player\n",
      "loading  ./scores/1112_voica_b_1.json\n",
      "init Json Player\n",
      "loading  ./scores/1112_voica_a_1.json\n"
     ]
    },
    {
     "data": {
      "text/plain": [
       "[ 0, 4, 7, 12 ]"
      ]
     },
     "execution_count": 1,
     "metadata": {},
     "output_type": "execute_result"
    }
   ],
   "source": [
    "// nvm use 8.4.0\n",
    "// jupyter notebook\n",
    "\n",
    "var __ = require('lodash')\n",
    "const {playMidi, Series} =require('./playMidi')\n",
    "const MockPlayer = require('./mockPlayer')\n",
    "// const JsonPlayer = require('./jsonPlayer')\n",
    "const startQRS = require('./qrs')\n",
    "\n",
    "global.DEBUG = true\n",
    "\n",
    "global.Root = C\n",
    "global.Kind = Major"
   ]
  },
  {
   "cell_type": "markdown",
   "metadata": {
    "collapsed": true
   },
   "source": [
    "// force midi out put 'to Max 1'"
   ]
  },
  {
   "cell_type": "code",
   "execution_count": 89,
   "metadata": {},
   "outputs": [
    {
     "data": {
      "text/plain": [
       "false"
      ]
     },
     "execution_count": 89,
     "metadata": {},
     "output_type": "execute_result"
    }
   ],
   "source": [
    "global.DEBUG=false"
   ]
  },
  {
   "cell_type": "code",
   "execution_count": 88,
   "metadata": {},
   "outputs": [
    {
     "data": {
      "text/plain": [
       "true"
      ]
     },
     "execution_count": 88,
     "metadata": {},
     "output_type": "execute_result"
    },
    {
     "name": "stdout",
     "output_type": "stream",
     "text": [
      "ID:0 bpm:66.25\n",
      "ID:2 bpm:101.25\n",
      "ID:0 bpm:65.75\n",
      "ID:2 bpm:100.75\n",
      "ID:0 bpm:68.75\n",
      "ID:2 bpm:98.25\n",
      "ID:2 bpm:97.50\n"
     ]
    }
   ],
   "source": [
    "global.DEBUG=true"
   ]
  },
  {
   "cell_type": "markdown",
   "metadata": {},
   "source": [
    "## Live from heart"
   ]
  },
  {
   "cell_type": "code",
   "execution_count": 13,
   "metadata": {},
   "outputs": [
    {
     "data": {
      "text/plain": [
       "undefined"
      ]
     },
     "execution_count": 13,
     "metadata": {},
     "output_type": "execute_result"
    },
    {
     "name": "stdout",
     "output_type": "stream",
     "text": [
      "UDP Server listening on 192.168.0.101:12346\n"
     ]
    }
   ],
   "source": [
    "startQRS()"
   ]
  },
  {
   "cell_type": "code",
   "execution_count": 56,
   "metadata": {},
   "outputs": [
    {
     "name": "stdout",
     "output_type": "stream",
     "text": [
      "loading  ./scores/1112_voica_a_1.json\n",
      "loading  ./scores/1112_voica_b_1.json\n"
     ]
    },
    {
     "data": {
      "text/plain": [
       "undefined"
      ]
     },
     "execution_count": 56,
     "metadata": {},
     "output_type": "execute_result"
    }
   ],
   "source": [
    "// 1,5,1,2,1\n",
    "// Jocelyn 0 Base, Gama 2 Melody\n",
    "i=1\n",
    "melodyPlayer.loadJson(\"./scores/1112_voica_a_\"+i+\".json\")\n",
    "basePlayer.loadJson(\"./scores/1112_voica_b_\"+i+\".json\")"
   ]
  },
  {
   "cell_type": "code",
   "execution_count": 62,
   "metadata": {},
   "outputs": [
    {
     "data": {
      "text/plain": [
       "100"
      ]
     },
     "execution_count": 62,
     "metadata": {},
     "output_type": "execute_result"
    }
   ],
   "source": [
    "scale = 1\n",
    "basePlayer.v0=100*scale\n",
    "melodyPlayer.v0=100*scale"
   ]
  },
  {
   "cell_type": "code",
   "execution_count": 50,
   "metadata": {},
   "outputs": [
    {
     "data": {
      "text/plain": [
       "undefined"
      ]
     },
     "execution_count": 50,
     "metadata": {},
     "output_type": "execute_result"
    }
   ],
   "source": [
    "basePlayer.reset()\n",
    "melodyPlayer.reset()"
   ]
  },
  {
   "cell_type": "code",
   "execution_count": 22,
   "metadata": {},
   "outputs": [
    {
     "data": {
      "text/plain": [
       "undefined"
      ]
     },
     "execution_count": 22,
     "metadata": {},
     "output_type": "execute_result"
    }
   ],
   "source": [
    "basePlayer.stop()\n",
    "melodyPlayer.stop()"
   ]
  },
  {
   "cell_type": "code",
   "execution_count": null,
   "metadata": {
    "collapsed": true
   },
   "outputs": [],
   "source": [
    "basePlayer.setShift(0)\n",
    "melodyPlayer.setShift(0)"
   ]
  },
  {
   "cell_type": "markdown",
   "metadata": {},
   "source": [
    "### Show starts, Jocelyn sits down"
   ]
  },
  {
   "cell_type": "code",
   "execution_count": 100,
   "metadata": {},
   "outputs": [
    {
     "name": "stdout",
     "output_type": "stream",
     "text": [
      "loading  ./scores/1112_voica_b_1.json\n"
     ]
    },
    {
     "data": {
      "text/plain": [
       "0"
      ]
     },
     "execution_count": 100,
     "metadata": {},
     "output_type": "execute_result"
    }
   ],
   "source": [
    "basePlayer.loadJson(\"./scores/1112_voica_b_1.json\")\n",
    "basePlayer.v0=100\n",
    "basePlayer.setShift(24)\n",
    "melodyPlayer.v0=0\n",
    "// turn up volume"
   ]
  },
  {
   "cell_type": "code",
   "execution_count": 90,
   "metadata": {},
   "outputs": [
    {
     "data": {
      "text/plain": [
       "undefined"
      ]
     },
     "execution_count": 90,
     "metadata": {},
     "output_type": "execute_result"
    }
   ],
   "source": [
    "// turn down volume\n",
    "basePlayer.v0=100\n",
    "basePlayer.setShift(0)\n",
    "melodyPlayer.v0=100\n",
    "melodyPlayer.setShift(0)"
   ]
  },
  {
   "cell_type": "markdown",
   "metadata": {},
   "source": [
    "### G+J first duet"
   ]
  },
  {
   "cell_type": "code",
   "execution_count": 99,
   "metadata": {},
   "outputs": [
    {
     "name": "stdout",
     "output_type": "stream",
     "text": [
      "loading  ./scores/1112_voica_a_1.json\n",
      "loading  ./scores/1112_voica_b_1.json\n"
     ]
    },
    {
     "data": {
      "text/plain": [
       "100"
      ]
     },
     "execution_count": 99,
     "metadata": {},
     "output_type": "execute_result"
    }
   ],
   "source": [
    "// turn up volume\n",
    "melodyPlayer.loadJson(\"./scores/1112_voica_a_1.json\")\n",
    "basePlayer.loadJson(\"./scores/1112_voica_b_1.json\")\n",
    "melodyPlayer.setShift(0)\n",
    "basePlayer.setShift(0)\n",
    "basePlayer.v0=100\n",
    "melodyPlayer.v0=100"
   ]
  },
  {
   "cell_type": "code",
   "execution_count": 92,
   "metadata": {},
   "outputs": [
    {
     "data": {
      "text/plain": [
       "undefined"
      ]
     },
     "execution_count": 92,
     "metadata": {},
     "output_type": "execute_result"
    }
   ],
   "source": [
    "melodyPlayer.setShift(0);\n",
    "basePlayer.setShift(3);"
   ]
  },
  {
   "cell_type": "code",
   "execution_count": 93,
   "metadata": {},
   "outputs": [
    {
     "data": {
      "text/plain": [
       "undefined"
      ]
     },
     "execution_count": 93,
     "metadata": {},
     "output_type": "execute_result"
    }
   ],
   "source": [
    "melodyPlayer.setShift(0)\n",
    "basePlayer.setShift(7)"
   ]
  },
  {
   "cell_type": "code",
   "execution_count": 94,
   "metadata": {},
   "outputs": [
    {
     "data": {
      "text/plain": [
       "undefined"
      ]
     },
     "execution_count": 94,
     "metadata": {},
     "output_type": "execute_result"
    }
   ],
   "source": [
    "melodyPlayer.setShift(0)\n",
    "basePlayer.setShift(0)"
   ]
  },
  {
   "cell_type": "code",
   "execution_count": 95,
   "metadata": {},
   "outputs": [
    {
     "data": {
      "text/plain": [
       "undefined"
      ]
     },
     "execution_count": 95,
     "metadata": {},
     "output_type": "execute_result"
    }
   ],
   "source": [
    "melodyPlayer.setShift(0)\n",
    "basePlayer.setShift(3)"
   ]
  },
  {
   "cell_type": "code",
   "execution_count": 96,
   "metadata": {},
   "outputs": [
    {
     "data": {
      "text/plain": [
       "undefined"
      ]
     },
     "execution_count": 96,
     "metadata": {},
     "output_type": "execute_result"
    }
   ],
   "source": [
    "melodyPlayer.setShift(0)\n",
    "basePlayer.setShift(2)"
   ]
  },
  {
   "cell_type": "code",
   "execution_count": 97,
   "metadata": {},
   "outputs": [
    {
     "name": "stdout",
     "output_type": "stream",
     "text": [
      "loading  ./scores/1112_voica_a_2.json\n",
      "loading  ./scores/1112_voica_b_2.json\n"
     ]
    },
    {
     "data": {
      "text/plain": [
       "undefined"
      ]
     },
     "execution_count": 97,
     "metadata": {},
     "output_type": "execute_result"
    }
   ],
   "source": [
    "melodyPlayer.loadJson(\"./scores/1112_voica_a_2.json\")\n",
    "basePlayer.loadJson(\"./scores/1112_voica_b_2.json\")\n",
    "melodyPlayer.setShift(0)\n",
    "basePlayer.setShift(0)"
   ]
  },
  {
   "cell_type": "code",
   "execution_count": 98,
   "metadata": {},
   "outputs": [
    {
     "name": "stdout",
     "output_type": "stream",
     "text": [
      "loading  ./scores/1112_voica_a_1.json\n",
      "loading  ./scores/1112_voica_b_1.json\n"
     ]
    },
    {
     "data": {
      "text/plain": [
       "undefined"
      ]
     },
     "execution_count": 98,
     "metadata": {},
     "output_type": "execute_result"
    }
   ],
   "source": [
    "melodyPlayer.loadJson(\"./scores/1112_voica_a_1.json\")\n",
    "basePlayer.loadJson(\"./scores/1112_voica_b_1.json\")\n",
    "melodyPlayer.setShift(-12)\n",
    "basePlayer.setShift(7)"
   ]
  },
  {
   "cell_type": "code",
   "execution_count": null,
   "metadata": {
    "collapsed": true
   },
   "outputs": [],
   "source": []
  },
  {
   "cell_type": "code",
   "execution_count": null,
   "metadata": {
    "collapsed": true
   },
   "outputs": [],
   "source": []
  },
  {
   "cell_type": "markdown",
   "metadata": {},
   "source": [
    "## Simulation"
   ]
  },
  {
   "cell_type": "code",
   "execution_count": 37,
   "metadata": {
    "collapsed": true
   },
   "outputs": [
    {
     "ename": "SyntaxError",
     "evalue": "Identifier 'player0' has already been declared",
     "output_type": "error",
     "traceback": [
      "evalmachine.<anonymous>:1",
      "let player0=new MockPlayer(1, 90, \"Json\", \"./scores/1112_voica_a_1.json\")",
      "^",
      "",
      "SyntaxError: Identifier 'player0' has already been declared",
      "    at evalmachine.<anonymous>:1:1",
      "    at ContextifyScript.Script.runInThisContext (vm.js:44:33)",
      "    at Object.runInThisContext (vm.js:116:38)",
      "    at run ([eval]:617:19)",
      "    at onRunRequest ([eval]:388:22)",
      "    at onMessage ([eval]:356:17)",
      "    at emitTwo (events.js:125:13)",
      "    at process.emit (events.js:213:7)",
      "    at emit (internal/child_process.js:774:12)",
      "    at _combinedTickCallback (internal/process/next_tick.js:141:11)"
     ]
    }
   ],
   "source": [
    "let player0=new MockPlayer(1, 90, \"Json\", \"./scores/1112_voica_a_1.json\")\n",
    "player0.start()\n",
    "let player1=new MockPlayer(3, 100, \"Json\", \"./scores/1112_voica_b_1.json\")\n",
    "player1.start()"
   ]
  },
  {
   "cell_type": "code",
   "execution_count": 38,
   "metadata": {},
   "outputs": [
    {
     "name": "stdout",
     "output_type": "stream",
     "text": [
      "loading  ./scores/1112_voica_a_1.json\n",
      "loading  ./scores/1112_voica_b_1.json\n"
     ]
    },
    {
     "data": {
      "text/plain": [
       "undefined"
      ]
     },
     "execution_count": 38,
     "metadata": {},
     "output_type": "execute_result"
    }
   ],
   "source": [
    "// 1,2,1,5,9,10,11\n",
    "// 1,5short 2to3seconds,1,2,5,9,10,11 with sound -20 -40\n",
    "// or maybe just 1 2 1 \n",
    "i=1\n",
    "player0.player.loadJson(\"./scores/1112_voica_a_\"+i+\".json\")\n",
    "player1.player.loadJson(\"./scores/1112_voica_b_\"+1+\".json\")\n",
    "// player1.player.loadJson(\"./scores/1112_voica_b_\"+i+\".json\")"
   ]
  },
  {
   "cell_type": "code",
   "execution_count": 40,
   "metadata": {},
   "outputs": [
    {
     "data": {
      "text/plain": [
       "undefined"
      ]
     },
     "execution_count": 40,
     "metadata": {},
     "output_type": "execute_result"
    }
   ],
   "source": [
    "player0.start()\n",
    "player1.start()"
   ]
  },
  {
   "cell_type": "code",
   "execution_count": 61,
   "metadata": {},
   "outputs": [
    {
     "data": {
      "text/plain": [
       "undefined"
      ]
     },
     "execution_count": 61,
     "metadata": {},
     "output_type": "execute_result"
    }
   ],
   "source": [
    "player1.stop()\n",
    "player0.stop()\n",
    "// player0.reset()"
   ]
  },
  {
   "cell_type": "code",
   "execution_count": null,
   "metadata": {
    "collapsed": true
   },
   "outputs": [],
   "source": []
  },
  {
   "cell_type": "code",
   "execution_count": 31,
   "metadata": {},
   "outputs": [
    {
     "data": {
      "text/plain": [
       "80"
      ]
     },
     "execution_count": 31,
     "metadata": {},
     "output_type": "execute_result"
    }
   ],
   "source": [
    "player0.bpm = 90\n",
    "player1.bpm = 80"
   ]
  },
  {
   "cell_type": "code",
   "execution_count": 7,
   "metadata": {},
   "outputs": [
    {
     "data": {
      "text/plain": [
       "50"
      ]
     },
     "execution_count": 7,
     "metadata": {},
     "output_type": "execute_result"
    }
   ],
   "source": [
    "scale = 0.5\n",
    "player0.player.v0=100*scale\n",
    "player1.player.v0=100*scale\n"
   ]
  },
  {
   "cell_type": "code",
   "execution_count": 59,
   "metadata": {},
   "outputs": [
    {
     "name": "stdout",
     "output_type": "stream",
     "text": [
      "loading  ./scores/1112_voica_a_1.json\n",
      "loading  ./scores/1112_voica_b_1.json\n"
     ]
    },
    {
     "data": {
      "text/plain": [
       "undefined"
      ]
     },
     "execution_count": 59,
     "metadata": {},
     "output_type": "execute_result"
    }
   ],
   "source": [
    "player0.player.loadJson(\"./scores/1112_voica_a_1.json\")\n",
    "player1.player.loadJson(\"./scores/1112_voica_b_1.json\")\n",
    "player0.player.setShift(0)\n",
    "player1.player.setShift(0)"
   ]
  },
  {
   "cell_type": "code",
   "execution_count": 52,
   "metadata": {},
   "outputs": [
    {
     "data": {
      "text/plain": [
       "undefined"
      ]
     },
     "execution_count": 52,
     "metadata": {},
     "output_type": "execute_result"
    }
   ],
   "source": [
    "player0.player.setShift(0)\n",
    "player1.player.setShift(3)"
   ]
  },
  {
   "cell_type": "code",
   "execution_count": 53,
   "metadata": {},
   "outputs": [
    {
     "data": {
      "text/plain": [
       "undefined"
      ]
     },
     "execution_count": 53,
     "metadata": {},
     "output_type": "execute_result"
    }
   ],
   "source": [
    "player0.player.setShift(0)\n",
    "player1.player.setShift(7)"
   ]
  },
  {
   "cell_type": "code",
   "execution_count": 54,
   "metadata": {},
   "outputs": [
    {
     "data": {
      "text/plain": [
       "undefined"
      ]
     },
     "execution_count": 54,
     "metadata": {},
     "output_type": "execute_result"
    }
   ],
   "source": [
    "player0.player.setShift(0)\n",
    "player1.player.setShift(0)"
   ]
  },
  {
   "cell_type": "code",
   "execution_count": 55,
   "metadata": {},
   "outputs": [
    {
     "data": {
      "text/plain": [
       "undefined"
      ]
     },
     "execution_count": 55,
     "metadata": {},
     "output_type": "execute_result"
    }
   ],
   "source": [
    "player0.player.setShift(0)\n",
    "player1.player.setShift(3)"
   ]
  },
  {
   "cell_type": "code",
   "execution_count": 56,
   "metadata": {},
   "outputs": [
    {
     "data": {
      "text/plain": [
       "undefined"
      ]
     },
     "execution_count": 56,
     "metadata": {},
     "output_type": "execute_result"
    }
   ],
   "source": [
    "player0.player.setShift(0)\n",
    "player1.player.setShift(2)"
   ]
  },
  {
   "cell_type": "code",
   "execution_count": 57,
   "metadata": {},
   "outputs": [
    {
     "name": "stdout",
     "output_type": "stream",
     "text": [
      "loading  ./scores/1112_voica_a_2.json\n",
      "loading  ./scores/1112_voica_b_2.json\n"
     ]
    },
    {
     "data": {
      "text/plain": [
       "undefined"
      ]
     },
     "execution_count": 57,
     "metadata": {},
     "output_type": "execute_result"
    }
   ],
   "source": [
    "player0.player.loadJson(\"./scores/1112_voica_a_2.json\")\n",
    "player1.player.loadJson(\"./scores/1112_voica_b_2.json\")\n",
    "player0.player.setShift(0)\n",
    "player1.player.setShift(0)"
   ]
  },
  {
   "cell_type": "code",
   "execution_count": 60,
   "metadata": {},
   "outputs": [
    {
     "name": "stdout",
     "output_type": "stream",
     "text": [
      "loading  ./scores/1112_voica_a_1.json\n",
      "loading  ./scores/1112_voica_b_1.json\n"
     ]
    },
    {
     "data": {
      "text/plain": [
       "undefined"
      ]
     },
     "execution_count": 60,
     "metadata": {},
     "output_type": "execute_result"
    }
   ],
   "source": [
    "player0.player.loadJson(\"./scores/1112_voica_a_1.json\")\n",
    "player1.player.loadJson(\"./scores/1112_voica_b_1.json\")\n",
    "player0.player.setShift(-12)\n",
    "player1.player.setShift(7)"
   ]
  },
  {
   "cell_type": "code",
   "execution_count": null,
   "metadata": {
    "collapsed": true
   },
   "outputs": [],
   "source": []
  },
  {
   "cell_type": "code",
   "execution_count": null,
   "metadata": {
    "collapsed": true
   },
   "outputs": [],
   "source": []
  },
  {
   "cell_type": "code",
   "execution_count": null,
   "metadata": {
    "collapsed": true
   },
   "outputs": [],
   "source": []
  },
  {
   "cell_type": "code",
   "execution_count": 21,
   "metadata": {
    "collapsed": true
   },
   "outputs": [
    {
     "name": "stdout",
     "output_type": "stream",
     "text": [
      "0 'nanoKONTROL2 CTRL'\n",
      "1 'to Max 1'\n",
      "2 'to Max 2'\n",
      "3 'Isadora Virtual In'\n"
     ]
    },
    {
     "data": {
      "text/plain": [
       "undefined"
      ]
     },
     "execution_count": 21,
     "metadata": {},
     "output_type": "execute_result"
    },
    {
     "name": "stdout",
     "output_type": "stream",
     "text": [
      "ID:3 bpm:82.50\n",
      "play\n",
      "ID:3 bpm:84.25\n",
      "play\n",
      "ID:3 bpm:100.50\n",
      "play\n",
      "ID:3 bpm:116.25\n",
      "play\n",
      "ID:3 bpm:118.50\n",
      "play\n",
      "ID:3 bpm:118.00\n",
      "play\n",
      "ID:3 bpm:99.75\n",
      "play\n",
      "ID:3 bpm:80.75\n",
      "play\n"
     ]
    }
   ],
   "source": [
    "numPorts = output.getPortCount()\n",
    "__.range(0,numPorts).forEach(i=>console.log(i, output.getPortName(i)))\n",
    "\n",
    "output.closePort()\n",
    "output.openPort(1)"
   ]
  }
 ],
 "metadata": {
  "kernelspec": {
   "display_name": "Javascript (Node.js)",
   "language": "javascript",
   "name": "javascript"
  },
  "language_info": {
   "file_extension": ".js",
   "mimetype": "application/javascript",
   "name": "javascript",
   "version": "8.4.0"
  }
 },
 "nbformat": 4,
 "nbformat_minor": 2
}
