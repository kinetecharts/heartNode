{
 "cells": [
  {
   "cell_type": "code",
   "execution_count": 2,
   "metadata": {},
   "outputs": [
    {
     "name": "stdout",
     "output_type": "stream",
     "text": [
      "numPort 2\n",
      "0 'to Max 1'\n",
      "1 'to Max 2'\n",
      "out put to  to Max 1\n",
      "init Json Player\n",
      "loading  ./scores/voice_b_all.json\n",
      "init Json Player\n",
      "loading  ./scores/voice_a_all.json\n"
     ]
    },
    {
     "data": {
      "text/plain": [
       "[ 0, 4, 7, 12 ]"
      ]
     },
     "execution_count": 2,
     "metadata": {},
     "output_type": "execute_result"
    }
   ],
   "source": [
    "// nvm use 8.4.0\n",
    "// jupyter notebook\n",
    "\n",
    "var __ = require('lodash')\n",
    "const {playMidi, Series} =require('./playMidi')\n",
    "const MockPlayer = require('./mockPlayer')\n",
    "// const JsonPlayer = require('./jsonPlayer')\n",
    "const startQRS = require('./qrs')\n",
    "\n",
    "global.DEBUG = true\n",
    "\n",
    "global.Root = C\n",
    "global.Kind = Major"
   ]
  },
  {
   "cell_type": "markdown",
   "metadata": {
    "collapsed": true
   },
   "source": [
    "// force midi out put 'to Max 1'"
   ]
  },
  {
   "cell_type": "code",
   "execution_count": 6,
   "metadata": {},
   "outputs": [
    {
     "data": {
      "text/plain": [
       "false"
      ]
     },
     "execution_count": 6,
     "metadata": {},
     "output_type": "execute_result"
    }
   ],
   "source": [
    "global.DEBUG=false"
   ]
  },
  {
   "cell_type": "code",
   "execution_count": null,
   "metadata": {
    "collapsed": true
   },
   "outputs": [],
   "source": []
  },
  {
   "cell_type": "code",
   "execution_count": 5,
   "metadata": {},
   "outputs": [
    {
     "data": {
      "text/plain": [
       "true"
      ]
     },
     "execution_count": 5,
     "metadata": {},
     "output_type": "execute_result"
    },
    {
     "name": "stdout",
     "output_type": "stream",
     "text": [
      "ID:0 bpm:3.00\n",
      "ID:0 bpm:40.25\n",
      "ID:0 bpm:77.50\n",
      "ID:0 bpm:114.75\n",
      "ID:0 bpm:149.00\n",
      "ID:0 bpm:145.00\n",
      "ID:0 bpm:145.00\n",
      "ID:0 bpm:144.00\n",
      "ID:0 bpm:129.75\n",
      "ID:0 bpm:133.75\n",
      "ID:0 bpm:133.75\n",
      "ID:0 bpm:134.75\n"
     ]
    }
   ],
   "source": [
    "global.DEBUG=true"
   ]
  },
  {
   "cell_type": "code",
   "execution_count": 3,
   "metadata": {
    "collapsed": true
   },
   "outputs": [
    {
     "data": {
      "text/plain": [
       "undefined"
      ]
     },
     "execution_count": 3,
     "metadata": {},
     "output_type": "execute_result"
    },
    {
     "name": "stdout",
     "output_type": "stream",
     "text": [
      "UDP Server listening on 192.168.0.101:12346\n",
      "ID:0 bpm:1.75\n",
      "ID:0 bpm:39.00\n",
      "ID:0 bpm:76.25\n",
      "ID:0 bpm:113.50\n",
      "ID:0 bpm:149.00\n",
      "ID:0 bpm:149.00\n",
      "ID:0 bpm:149.00\n",
      "ID:0 bpm:149.00\n",
      "ID:0 bpm:149.00\n",
      "ID:0 bpm:149.00\n",
      "ID:0 bpm:149.00\n",
      "ID:0 bpm:149.00\n",
      "ID:0 bpm:149.00\n",
      "ID:0 bpm:149.00\n",
      "ID:0 bpm:149.00\n",
      "ID:0 bpm:149.00\n"
     ]
    }
   ],
   "source": [
    "startQRS()"
   ]
  },
  {
   "cell_type": "code",
   "execution_count": 79,
   "metadata": {},
   "outputs": [
    {
     "data": {
      "text/plain": [
       "100"
      ]
     },
     "execution_count": 79,
     "metadata": {},
     "output_type": "execute_result"
    }
   ],
   "source": [
    "scale = 1\n",
    "basePlayer.v0=70 *scale \n",
    "basePlayer.v1=40 * scale\n",
    "melodyPlayer.v0=100 * scale"
   ]
  },
  {
   "cell_type": "code",
   "execution_count": 50,
   "metadata": {},
   "outputs": [
    {
     "data": {
      "text/plain": [
       "undefined"
      ]
     },
     "execution_count": 50,
     "metadata": {},
     "output_type": "execute_result"
    }
   ],
   "source": [
    "basePlayer.reset()\n",
    "melodyPlayer.reset()"
   ]
  },
  {
   "cell_type": "code",
   "execution_count": null,
   "metadata": {
    "collapsed": true
   },
   "outputs": [],
   "source": [
    "i=11\n",
    "melodyPlayer.player.loadJson(\"./scores/1112_voica_a_\"+i+\".json\")\n",
    "basePlayer.player.loadJson(\"./scores/1112_voica_b_\"+i+\".json\")"
   ]
  },
  {
   "cell_type": "code",
   "execution_count": null,
   "metadata": {
    "collapsed": true
   },
   "outputs": [],
   "source": []
  },
  {
   "cell_type": "code",
   "execution_count": 22,
   "metadata": {},
   "outputs": [
    {
     "data": {
      "text/plain": [
       "undefined"
      ]
     },
     "execution_count": 22,
     "metadata": {},
     "output_type": "execute_result"
    }
   ],
   "source": [
    "basePlayer.stop()\n",
    "melodyPlayer.stop()"
   ]
  },
  {
   "cell_type": "code",
   "execution_count": null,
   "metadata": {
    "collapsed": true
   },
   "outputs": [],
   "source": []
  },
  {
   "cell_type": "code",
   "execution_count": null,
   "metadata": {
    "collapsed": true
   },
   "outputs": [],
   "source": []
  },
  {
   "cell_type": "code",
   "execution_count": 21,
   "metadata": {},
   "outputs": [
    {
     "name": "stdout",
     "output_type": "stream",
     "text": [
      "0 'nanoKONTROL2 CTRL'\n",
      "1 'to Max 1'\n",
      "2 'to Max 2'\n",
      "3 'Isadora Virtual In'\n"
     ]
    },
    {
     "data": {
      "text/plain": [
       "undefined"
      ]
     },
     "execution_count": 21,
     "metadata": {},
     "output_type": "execute_result"
    },
    {
     "name": "stdout",
     "output_type": "stream",
     "text": [
      "ID:3 bpm:82.50\n",
      "play\n",
      "ID:3 bpm:84.25\n",
      "play\n",
      "ID:3 bpm:100.50\n",
      "play\n",
      "ID:3 bpm:116.25\n",
      "play\n",
      "ID:3 bpm:118.50\n",
      "play\n",
      "ID:3 bpm:118.00\n",
      "play\n",
      "ID:3 bpm:99.75\n",
      "play\n",
      "ID:3 bpm:80.75\n",
      "play\n"
     ]
    }
   ],
   "source": [
    "numPorts = output.getPortCount()\n",
    "__.range(0,numPorts).forEach(i=>console.log(i, output.getPortName(i)))"
   ]
  },
  {
   "cell_type": "code",
   "execution_count": 43,
   "metadata": {},
   "outputs": [
    {
     "data": {
      "text/plain": [
       "undefined"
      ]
     },
     "execution_count": 43,
     "metadata": {},
     "output_type": "execute_result"
    }
   ],
   "source": [
    "output.closePort()\n",
    "output.openPort(1)"
   ]
  },
  {
   "cell_type": "code",
   "execution_count": 47,
   "metadata": {},
   "outputs": [
    {
     "data": {
      "text/plain": [
       "false"
      ]
     },
     "execution_count": 47,
     "metadata": {},
     "output_type": "execute_result"
    }
   ],
   "source": [
    "DEBUG=false\n",
    "\n",
    "Root=B\n",
    "Kind = Major\n",
    "\n",
    "Root=D\n",
    "global.T = [0,0,0,-0]\n",
    "Kind=T"
   ]
  },
  {
   "cell_type": "code",
   "execution_count": 3,
   "metadata": {},
   "outputs": [
    {
     "name": "stdout",
     "output_type": "stream",
     "text": [
      "init Json Player\n",
      "loading  ./scores/1112_voica_a_1.json\n",
      "init Json Player\n",
      "loading  ./scores/1112_voica_b_1.json\n"
     ]
    },
    {
     "data": {
      "text/plain": [
       "undefined"
      ]
     },
     "execution_count": 3,
     "metadata": {},
     "output_type": "execute_result"
    }
   ],
   "source": [
    "let player0=new MockPlayer(1, 90, \"Json\", \"./scores/1112_voica_a_1.json\")\n",
    "player0.start()\n",
    "\n",
    "let player1=new MockPlayer(3, 100, \"Json\", \"./scores/1112_voica_b_1.json\")\n",
    "player1.start()"
   ]
  },
  {
   "cell_type": "code",
   "execution_count": 19,
   "metadata": {},
   "outputs": [
    {
     "name": "stdout",
     "output_type": "stream",
     "text": [
      "loading  ./scores/1112_voica_a_11.json\n",
      "loading  ./scores/1112_voica_b_11.json\n"
     ]
    },
    {
     "data": {
      "text/plain": [
       "undefined"
      ]
     },
     "execution_count": 19,
     "metadata": {},
     "output_type": "execute_result"
    }
   ],
   "source": [
    "i=11\n",
    "player0.player.loadJson(\"./scores/1112_voica_a_\"+i+\".json\")\n",
    "player1.player.loadJson(\"./scores/1112_voica_b_\"+i+\".json\")"
   ]
  },
  {
   "cell_type": "code",
   "execution_count": 105,
   "metadata": {},
   "outputs": [
    {
     "data": {
      "text/plain": [
       "85"
      ]
     },
     "execution_count": 105,
     "metadata": {},
     "output_type": "execute_result"
    }
   ],
   "source": [
    "player0.bpm = 70\n",
    "player1.bpm = 85"
   ]
  },
  {
   "cell_type": "code",
   "execution_count": 82,
   "metadata": {},
   "outputs": [
    {
     "data": {
      "text/plain": [
       "70"
      ]
     },
     "execution_count": 82,
     "metadata": {},
     "output_type": "execute_result"
    }
   ],
   "source": [
    "scale = 1\n",
    "player0.player.v0=100*scale\n",
    "player0.player.v1=70*scale\n",
    "player1.player.v0=100*scale\n",
    "player1.player.v1=70*scale\n"
   ]
  },
  {
   "cell_type": "code",
   "execution_count": null,
   "metadata": {
    "collapsed": true
   },
   "outputs": [],
   "source": []
  },
  {
   "cell_type": "code",
   "execution_count": 107,
   "metadata": {
    "scrolled": true
   },
   "outputs": [
    {
     "data": {
      "text/plain": [
       "undefined"
      ]
     },
     "execution_count": 107,
     "metadata": {},
     "output_type": "execute_result"
    }
   ],
   "source": [
    "let player1=new MockPlayer(1, 65, \"Melody\")"
   ]
  },
  {
   "cell_type": "code",
   "execution_count": 10,
   "metadata": {},
   "outputs": [
    {
     "data": {
      "text/plain": [
       "undefined"
      ]
     },
     "execution_count": 10,
     "metadata": {},
     "output_type": "execute_result"
    }
   ],
   "source": [
    "player1.start()"
   ]
  },
  {
   "cell_type": "code",
   "execution_count": 20,
   "metadata": {},
   "outputs": [
    {
     "data": {
      "text/plain": [
       "undefined"
      ]
     },
     "execution_count": 20,
     "metadata": {},
     "output_type": "execute_result"
    }
   ],
   "source": [
    "player1.stop()\n",
    "\n",
    "player0.stop()\n",
    "// player0.reset()"
   ]
  },
  {
   "cell_type": "code",
   "execution_count": 33,
   "metadata": {
    "collapsed": true
   },
   "outputs": [
    {
     "data": {
      "text/plain": [
       "[ 64,\n",
       "  68,\n",
       "  71,\n",
       "  68,\n",
       "  64,\n",
       "  73,\n",
       "  69,\n",
       "  66,\n",
       "  71,\n",
       "  71,\n",
       "  71,\n",
       "  71,\n",
       "  63,\n",
       "  66,\n",
       "  69,\n",
       "  66,\n",
       "  73,\n",
       "  71,\n",
       "  68,\n",
       "  76,\n",
       "  73,\n",
       "  73,\n",
       "  73,\n",
       "  71,\n",
       "  71,\n",
       "  71,\n",
       "  71,\n",
       "  64,\n",
       "  73,\n",
       "  66,\n",
       "  75,\n",
       "  68,\n",
       "  76,\n",
       "  71,\n",
       "  71,\n",
       "  64,\n",
       "  73,\n",
       "  66,\n",
       "  75,\n",
       "  68,\n",
       "  76,\n",
       "  71,\n",
       "  71,\n",
       "  71,\n",
       "  64,\n",
       "  68,\n",
       "  71,\n",
       "  68,\n",
       "  64,\n",
       "  73,\n",
       "  69,\n",
       "  66,\n",
       "  71,\n",
       "  71,\n",
       "  71,\n",
       "  71,\n",
       "  76,\n",
       "  76,\n",
       "  76,\n",
       "  63,\n",
       "  66,\n",
       "  73,\n",
       "  69,\n",
       "  66,\n",
       "  75,\n",
       "  71,\n",
       "  76,\n",
       "  73,\n",
       "  73,\n",
       "  73,\n",
       "  71,\n",
       "  71,\n",
       "  71,\n",
       "  64,\n",
       "  68,\n",
       "  71,\n",
       "  64,\n",
       "  73,\n",
       "  66,\n",
       "  75,\n",
       "  68,\n",
       "  76,\n",
       "  71 ]"
      ]
     },
     "execution_count": 33,
     "metadata": {},
     "output_type": "execute_result"
    }
   ],
   "source": [
    "player0.player.data\n"
   ]
  },
  {
   "cell_type": "code",
   "execution_count": null,
   "metadata": {
    "collapsed": true
   },
   "outputs": [],
   "source": []
  },
  {
   "cell_type": "code",
   "execution_count": null,
   "metadata": {
    "collapsed": true
   },
   "outputs": [],
   "source": []
  },
  {
   "cell_type": "code",
   "execution_count": 3,
   "metadata": {},
   "outputs": [
    {
     "data": {
      "text/plain": [
       "undefined"
      ]
     },
     "execution_count": 3,
     "metadata": {},
     "output_type": "execute_result"
    }
   ],
   "source": [
    "let player1=new MockPlayer(1, 62)\n",
    "player1.setShift(-12)\n",
    "player1.startSequence()"
   ]
  },
  {
   "cell_type": "code",
   "execution_count": 59,
   "metadata": {},
   "outputs": [
    {
     "data": {
      "text/plain": [
       "undefined"
      ]
     },
     "execution_count": 59,
     "metadata": {},
     "output_type": "execute_result"
    }
   ],
   "source": [
    "player0.startSequence()\n",
    "player1.startSequence()"
   ]
  },
  {
   "cell_type": "code",
   "execution_count": 57,
   "metadata": {},
   "outputs": [
    {
     "data": {
      "text/plain": [
       "undefined"
      ]
     },
     "execution_count": 57,
     "metadata": {},
     "output_type": "execute_result"
    }
   ],
   "source": [
    "player0.start()\n",
    "player1.start()"
   ]
  },
  {
   "cell_type": "code",
   "execution_count": 5,
   "metadata": {},
   "outputs": [
    {
     "data": {
      "text/plain": [
       "undefined"
      ]
     },
     "execution_count": 5,
     "metadata": {},
     "output_type": "execute_result"
    }
   ],
   "source": [
    "player0.reset()\n",
    "player1.reset()"
   ]
  },
  {
   "cell_type": "code",
   "execution_count": 108,
   "metadata": {},
   "outputs": [
    {
     "ename": "ReferenceError",
     "evalue": "player0 is not defined",
     "output_type": "error",
     "traceback": [
      "evalmachine.<anonymous>:1",
      "player0.stop()",
      "^",
      "",
      "ReferenceError: player0 is not defined",
      "    at evalmachine.<anonymous>:1:1",
      "    at ContextifyScript.Script.runInThisContext (vm.js:44:33)",
      "    at Object.runInThisContext (vm.js:116:38)",
      "    at run ([eval]:617:19)",
      "    at onRunRequest ([eval]:388:22)",
      "    at onMessage ([eval]:356:17)",
      "    at emitTwo (events.js:125:13)",
      "    at process.emit (events.js:213:7)",
      "    at emit (internal/child_process.js:774:12)",
      "    at _combinedTickCallback (internal/process/next_tick.js:141:11)"
     ]
    }
   ],
   "source": [
    "player0.stop()\n",
    "player1.stop()"
   ]
  },
  {
   "cell_type": "code",
   "execution_count": 35,
   "metadata": {},
   "outputs": [
    {
     "data": {
      "text/plain": [
       "[ 0, -12, 0, 0 ]"
      ]
     },
     "execution_count": 35,
     "metadata": {},
     "output_type": "execute_result"
    }
   ],
   "source": [
    "Root=C\n",
    "Kind=[0, -12, 0, 0]"
   ]
  },
  {
   "cell_type": "code",
   "execution_count": 4,
   "metadata": {},
   "outputs": [
    {
     "data": {
      "text/plain": [
       "undefined"
      ]
     },
     "execution_count": 4,
     "metadata": {},
     "output_type": "execute_result"
    }
   ],
   "source": [
    "player1.setShift(-12)"
   ]
  },
  {
   "cell_type": "code",
   "execution_count": null,
   "metadata": {
    "collapsed": true
   },
   "outputs": [],
   "source": []
  },
  {
   "cell_type": "code",
   "execution_count": null,
   "metadata": {
    "collapsed": true
   },
   "outputs": [],
   "source": []
  },
  {
   "cell_type": "code",
   "execution_count": null,
   "metadata": {
    "collapsed": true
   },
   "outputs": [],
   "source": []
  },
  {
   "cell_type": "code",
   "execution_count": null,
   "metadata": {
    "collapsed": true
   },
   "outputs": [],
   "source": []
  },
  {
   "cell_type": "code",
   "execution_count": null,
   "metadata": {
    "collapsed": true
   },
   "outputs": [],
   "source": []
  },
  {
   "cell_type": "code",
   "execution_count": 24,
   "metadata": {},
   "outputs": [
    {
     "data": {
      "text/plain": [
       "undefined"
      ]
     },
     "execution_count": 24,
     "metadata": {},
     "output_type": "execute_result"
    }
   ],
   "source": [
    "let player0=new MockPlayer(0, 70)\n",
    "player0.start()"
   ]
  },
  {
   "cell_type": "code",
   "execution_count": 4,
   "metadata": {},
   "outputs": [
    {
     "data": {
      "text/plain": [
       "undefined"
      ]
     },
     "execution_count": 4,
     "metadata": {},
     "output_type": "execute_result"
    }
   ],
   "source": [
    "let player2=new MockPlayer(2, 75)\n",
    "player2.start()"
   ]
  },
  {
   "cell_type": "code",
   "execution_count": 33,
   "metadata": {},
   "outputs": [
    {
     "data": {
      "text/plain": [
       "undefined"
      ]
     },
     "execution_count": 33,
     "metadata": {},
     "output_type": "execute_result"
    }
   ],
   "source": [
    "let player3=new MockPlayer(3, 80)\n",
    "player3.start()"
   ]
  },
  {
   "cell_type": "code",
   "execution_count": 5,
   "metadata": {},
   "outputs": [
    {
     "data": {
      "text/plain": [
       "undefined"
      ]
     },
     "execution_count": 5,
     "metadata": {},
     "output_type": "execute_result"
    }
   ],
   "source": [
    "player0.stop()"
   ]
  },
  {
   "cell_type": "code",
   "execution_count": 7,
   "metadata": {},
   "outputs": [
    {
     "data": {
      "text/plain": [
       "undefined"
      ]
     },
     "execution_count": 7,
     "metadata": {},
     "output_type": "execute_result"
    }
   ],
   "source": [
    "player1.stop()"
   ]
  },
  {
   "cell_type": "code",
   "execution_count": 17,
   "metadata": {},
   "outputs": [
    {
     "data": {
      "text/plain": [
       "undefined"
      ]
     },
     "execution_count": 17,
     "metadata": {},
     "output_type": "execute_result"
    }
   ],
   "source": [
    "player3.stop()"
   ]
  },
  {
   "cell_type": "code",
   "execution_count": null,
   "metadata": {
    "collapsed": true
   },
   "outputs": [],
   "source": []
  },
  {
   "cell_type": "code",
   "execution_count": 371,
   "metadata": {},
   "outputs": [
    {
     "data": {
      "text/plain": [
       "undefined"
      ]
     },
     "execution_count": 371,
     "metadata": {},
     "output_type": "execute_result"
    }
   ],
   "source": [
    "playMidi(1, C, Major, 100, 100)"
   ]
  },
  {
   "cell_type": "code",
   "execution_count": null,
   "metadata": {
    "collapsed": true
   },
   "outputs": [],
   "source": []
  }
 ],
 "metadata": {
  "kernelspec": {
   "display_name": "Javascript (Node.js)",
   "language": "javascript",
   "name": "javascript"
  },
  "language_info": {
   "file_extension": ".js",
   "mimetype": "application/javascript",
   "name": "javascript",
   "version": "8.4.0"
  }
 },
 "nbformat": 4,
 "nbformat_minor": 2
}
