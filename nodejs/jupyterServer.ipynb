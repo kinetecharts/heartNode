{
 "cells": [
  {
   "cell_type": "code",
   "execution_count": 67,
   "metadata": {},
   "outputs": [
    {
     "name": "stdout",
     "output_type": "stream",
     "text": [
      "numPort 2\n"
     ]
    },
    {
     "data": {
      "text/plain": [
       "[ 0, 4, 7, 12 ]"
      ]
     },
     "execution_count": 67,
     "metadata": {},
     "output_type": "execute_result"
    }
   ],
   "source": [
    "var __ = require('lodash')\n",
    "const {playMidi, Series} =require('./playMidi')\n",
    "const MockPlayer = require('./mockPlayer')\n",
    "// const JsonPlayer = require('./jsonPlayer')\n",
    "const startQRS = require('./qrs')\n",
    "\n",
    "global.DEBUG = true\n",
    "\n",
    "global.Root = C\n",
    "global.Kind = Major"
   ]
  },
  {
   "cell_type": "code",
   "execution_count": null,
   "metadata": {
    "collapsed": true
   },
   "outputs": [],
   "source": []
  },
  {
   "cell_type": "code",
   "execution_count": 102,
   "metadata": {},
   "outputs": [
    {
     "data": {
      "text/plain": [
       "false"
      ]
     },
     "execution_count": 102,
     "metadata": {},
     "output_type": "execute_result"
    }
   ],
   "source": [
    "global.DEBUG=false"
   ]
  },
  {
   "cell_type": "code",
   "execution_count": 101,
   "metadata": {
    "collapsed": true
   },
   "outputs": [
    {
     "data": {
      "text/plain": [
       "true"
      ]
     },
     "execution_count": 101,
     "metadata": {},
     "output_type": "execute_result"
    },
    {
     "name": "stdout",
     "output_type": "stream",
     "text": [
      "ID:2 bpm:149.00\n",
      "ID:0 bpm:131.25\n",
      "ID:2 bpm:149.00\n",
      "ID:0 bpm:131.25\n",
      "ID:2 bpm:134.50\n",
      "ID:0 bpm:131.25\n",
      "ID:2 bpm:134.50\n",
      "ID:0 bpm:131.00\n",
      "ID:2 bpm:134.50\n",
      "ID:0 bpm:131.00\n",
      "ID:2 bpm:134.50\n",
      "ID:0 bpm:130.25\n",
      "ID:0 bpm:130.25\n",
      "ID:2 bpm:149.00\n",
      "ID:2 bpm:149.00\n",
      "ID:0 bpm:130.75\n",
      "ID:2 bpm:149.00\n",
      "ID:0 bpm:130.75\n",
      "ID:2 bpm:149.00\n"
     ]
    }
   ],
   "source": [
    "global.DEBUG=true"
   ]
  },
  {
   "cell_type": "code",
   "execution_count": 59,
   "metadata": {
    "collapsed": true
   },
   "outputs": [
    {
     "data": {
      "text/plain": [
       "undefined"
      ]
     },
     "execution_count": 59,
     "metadata": {},
     "output_type": "execute_result"
    },
    {
     "name": "stdout",
     "output_type": "stream",
     "text": [
      "UDP Server listening on 192.168.0.101:12346\n",
      "ID:0 bpm:88.75\n",
      "ID:0 bpm:86.25\n",
      "ID:0 bpm:85.00\n",
      "ID:0 bpm:87.25\n",
      "ID:0 bpm:90.75\n",
      "ID:0 bpm:90.50\n",
      "ID:0 bpm:95.50\n",
      "ID:0 bpm:95.25\n",
      "ID:0 bpm:94.75\n",
      "ID:0 bpm:95.00\n",
      "ID:0 bpm:93.75\n",
      "ID:0 bpm:92.50\n",
      "ID:0 bpm:92.75\n",
      "ID:0 bpm:93.00\n",
      "ID:0 bpm:92.25\n",
      "ID:0 bpm:90.75\n",
      "ID:0 bpm:90.00\n",
      "ID:0 bpm:90.00\n",
      "ID:0 bpm:90.00\n",
      "ID:0 bpm:90.00\n",
      "ID:0 bpm:90.00\n",
      "ID:0 bpm:88.00\n",
      "ID:0 bpm:86.25\n",
      "ID:0 bpm:86.00\n",
      "ID:0 bpm:86.00\n",
      "ID:0 bpm:86.00\n",
      "ID:0 bpm:86.50\n",
      "ID:0 bpm:86.75\n",
      "ID:0 bpm:86.25\n",
      "ID:0 bpm:87.00\n",
      "ID:0 bpm:90.25\n",
      "ID:0 bpm:92.25\n",
      "ID:0 bpm:96.00\n",
      "ID:0 bpm:97.50\n",
      "ID:0 bpm:96.75\n",
      "ID:0 bpm:97.75\n",
      "ID:0 bpm:97.25\n",
      "ID:0 bpm:98.25\n",
      "ID:0 bpm:99.00\n",
      "ID:0 bpm:100.00\n",
      "ID:0 bpm:100.50\n",
      "ID:0 bpm:100.75\n",
      "ID:0 bpm:102.00\n",
      "ID:0 bpm:102.75\n",
      "ID:0 bpm:90.25\n",
      "ID:0 bpm:89.50\n",
      "ID:0 bpm:88.00\n",
      "ID:0 bpm:86.25\n",
      "ID:0 bpm:97.50\n",
      "ID:0 bpm:97.00\n",
      "ID:0 bpm:98.25\n",
      "ID:0 bpm:100.50\n",
      "ID:0 bpm:102.75\n",
      "ID:0 bpm:103.25\n",
      "ID:0 bpm:100.50\n",
      "ID:0 bpm:96.00\n",
      "ID:0 bpm:91.00\n",
      "ID:0 bpm:87.75\n",
      "ID:0 bpm:88.00\n",
      "ID:0 bpm:90.75\n",
      "ID:0 bpm:94.00\n",
      "ID:0 bpm:98.50\n",
      "ID:0 bpm:101.50\n",
      "ID:0 bpm:102.00\n",
      "ID:0 bpm:104.00\n",
      "ID:0 bpm:104.00\n",
      "ID:0 bpm:102.25\n",
      "ID:0 bpm:100.75\n",
      "ID:0 bpm:97.00\n",
      "ID:0 bpm:93.75\n",
      "ID:0 bpm:94.25\n",
      "ID:0 bpm:93.50\n",
      "ID:0 bpm:95.00\n",
      "ID:0 bpm:95.75\n",
      "ID:0 bpm:95.50\n",
      "ID:0 bpm:96.00\n",
      "ID:0 bpm:96.50\n",
      "ID:0 bpm:97.75\n",
      "ID:0 bpm:99.00\n",
      "ID:0 bpm:99.00\n",
      "ID:0 bpm:99.00\n",
      "ID:0 bpm:99.50\n",
      "ID:0 bpm:100.50\n",
      "ID:0 bpm:101.75\n",
      "ID:0 bpm:103.00\n",
      "ID:0 bpm:102.00\n",
      "ID:0 bpm:98.00\n",
      "ID:0 bpm:91.25\n",
      "ID:0 bpm:87.00\n",
      "ID:0 bpm:85.25\n",
      "ID:0 bpm:85.50\n",
      "ID:0 bpm:88.00\n",
      "ID:0 bpm:87.00\n",
      "ID:0 bpm:84.25\n",
      "ID:0 bpm:82.25\n",
      "ID:0 bpm:81.25\n",
      "ID:0 bpm:81.75\n",
      "ID:0 bpm:83.75\n",
      "ID:0 bpm:86.00\n",
      "ID:0 bpm:87.50\n",
      "ID:0 bpm:88.75\n",
      "ID:0 bpm:89.75\n",
      "ID:0 bpm:90.25\n",
      "ID:0 bpm:90.25\n",
      "ID:0 bpm:89.25\n",
      "ID:0 bpm:90.75\n"
     ]
    }
   ],
   "source": [
    "startQRS()"
   ]
  },
  {
   "cell_type": "code",
   "execution_count": 103,
   "metadata": {},
   "outputs": [
    {
     "data": {
      "text/plain": [
       "60"
      ]
     },
     "execution_count": 103,
     "metadata": {},
     "output_type": "execute_result"
    }
   ],
   "source": [
    "scale = 1\n",
    "basePlayer.v0=80 *scale \n",
    "basePlayer.v1=40 * scale\n",
    "melodyPlayer.v0=60 * scale"
   ]
  },
  {
   "cell_type": "code",
   "execution_count": null,
   "metadata": {
    "collapsed": true
   },
   "outputs": [],
   "source": []
  },
  {
   "cell_type": "code",
   "execution_count": 146,
   "metadata": {},
   "outputs": [
    {
     "name": "stdout",
     "output_type": "stream",
     "text": [
      "0 'to Max 1'\n",
      "1 'to Max 2'\n"
     ]
    },
    {
     "data": {
      "text/plain": [
       "undefined"
      ]
     },
     "execution_count": 146,
     "metadata": {},
     "output_type": "execute_result"
    }
   ],
   "source": [
    "numPorts = output.getPortCount()\n",
    "__.range(0,numPorts).forEach(i=>console.log(i, output.getPortName(i)))"
   ]
  },
  {
   "cell_type": "code",
   "execution_count": 43,
   "metadata": {},
   "outputs": [
    {
     "data": {
      "text/plain": [
       "undefined"
      ]
     },
     "execution_count": 43,
     "metadata": {},
     "output_type": "execute_result"
    }
   ],
   "source": [
    "output.closePort()\n",
    "output.openPort(1)"
   ]
  },
  {
   "cell_type": "code",
   "execution_count": 47,
   "metadata": {},
   "outputs": [
    {
     "data": {
      "text/plain": [
       "false"
      ]
     },
     "execution_count": 47,
     "metadata": {},
     "output_type": "execute_result"
    }
   ],
   "source": [
    "DEBUG=false\n",
    "\n",
    "Root=B\n",
    "Kind = Major\n",
    "\n",
    "Root=D\n",
    "global.T = [0,0,0,-0]\n",
    "Kind=T"
   ]
  },
  {
   "cell_type": "code",
   "execution_count": 68,
   "metadata": {},
   "outputs": [
    {
     "name": "stdout",
     "output_type": "stream",
     "text": [
      "init Json Player\n",
      "loading  ./scores/voice_a_all.json\n"
     ]
    },
    {
     "data": {
      "text/plain": [
       "undefined"
      ]
     },
     "execution_count": 68,
     "metadata": {},
     "output_type": "execute_result"
    }
   ],
   "source": [
    "let player0=new MockPlayer(0, 90, \"Json\", \"./scores/voice_a_all.json\")\n",
    "player0.start()"
   ]
  },
  {
   "cell_type": "code",
   "execution_count": 69,
   "metadata": {},
   "outputs": [
    {
     "name": "stdout",
     "output_type": "stream",
     "text": [
      "init Json Player\n",
      "loading  ./scores/voice_b_all.json\n"
     ]
    },
    {
     "data": {
      "text/plain": [
       "undefined"
      ]
     },
     "execution_count": 69,
     "metadata": {},
     "output_type": "execute_result"
    }
   ],
   "source": [
    "let player1=new MockPlayer(0, 80, \"Json\", \"./scores/voice_b_all.json\")\n",
    "player1.start()"
   ]
  },
  {
   "cell_type": "code",
   "execution_count": null,
   "metadata": {
    "collapsed": true
   },
   "outputs": [],
   "source": []
  },
  {
   "cell_type": "code",
   "execution_count": 9,
   "metadata": {},
   "outputs": [
    {
     "data": {
      "text/plain": [
       "undefined"
      ]
     },
     "execution_count": 9,
     "metadata": {},
     "output_type": "execute_result"
    }
   ],
   "source": [
    "let player1=new MockPlayer(1, 65, \"Melody\")"
   ]
  },
  {
   "cell_type": "code",
   "execution_count": 10,
   "metadata": {},
   "outputs": [
    {
     "data": {
      "text/plain": [
       "undefined"
      ]
     },
     "execution_count": 10,
     "metadata": {},
     "output_type": "execute_result"
    }
   ],
   "source": [
    "player1.start()"
   ]
  },
  {
   "cell_type": "code",
   "execution_count": 61,
   "metadata": {},
   "outputs": [
    {
     "data": {
      "text/plain": [
       "undefined"
      ]
     },
     "execution_count": 61,
     "metadata": {},
     "output_type": "execute_result"
    }
   ],
   "source": [
    "player1.stop()"
   ]
  },
  {
   "cell_type": "code",
   "execution_count": 62,
   "metadata": {},
   "outputs": [
    {
     "data": {
      "text/plain": [
       "undefined"
      ]
     },
     "execution_count": 62,
     "metadata": {},
     "output_type": "execute_result"
    }
   ],
   "source": [
    "player0.stop()\n",
    "player0.reset()"
   ]
  },
  {
   "cell_type": "code",
   "execution_count": 33,
   "metadata": {
    "collapsed": true
   },
   "outputs": [
    {
     "data": {
      "text/plain": [
       "[ 64,\n",
       "  68,\n",
       "  71,\n",
       "  68,\n",
       "  64,\n",
       "  73,\n",
       "  69,\n",
       "  66,\n",
       "  71,\n",
       "  71,\n",
       "  71,\n",
       "  71,\n",
       "  63,\n",
       "  66,\n",
       "  69,\n",
       "  66,\n",
       "  73,\n",
       "  71,\n",
       "  68,\n",
       "  76,\n",
       "  73,\n",
       "  73,\n",
       "  73,\n",
       "  71,\n",
       "  71,\n",
       "  71,\n",
       "  71,\n",
       "  64,\n",
       "  73,\n",
       "  66,\n",
       "  75,\n",
       "  68,\n",
       "  76,\n",
       "  71,\n",
       "  71,\n",
       "  64,\n",
       "  73,\n",
       "  66,\n",
       "  75,\n",
       "  68,\n",
       "  76,\n",
       "  71,\n",
       "  71,\n",
       "  71,\n",
       "  64,\n",
       "  68,\n",
       "  71,\n",
       "  68,\n",
       "  64,\n",
       "  73,\n",
       "  69,\n",
       "  66,\n",
       "  71,\n",
       "  71,\n",
       "  71,\n",
       "  71,\n",
       "  76,\n",
       "  76,\n",
       "  76,\n",
       "  63,\n",
       "  66,\n",
       "  73,\n",
       "  69,\n",
       "  66,\n",
       "  75,\n",
       "  71,\n",
       "  76,\n",
       "  73,\n",
       "  73,\n",
       "  73,\n",
       "  71,\n",
       "  71,\n",
       "  71,\n",
       "  64,\n",
       "  68,\n",
       "  71,\n",
       "  64,\n",
       "  73,\n",
       "  66,\n",
       "  75,\n",
       "  68,\n",
       "  76,\n",
       "  71 ]"
      ]
     },
     "execution_count": 33,
     "metadata": {},
     "output_type": "execute_result"
    }
   ],
   "source": [
    "player0.player.data\n"
   ]
  },
  {
   "cell_type": "code",
   "execution_count": null,
   "metadata": {
    "collapsed": true
   },
   "outputs": [],
   "source": []
  },
  {
   "cell_type": "code",
   "execution_count": null,
   "metadata": {
    "collapsed": true
   },
   "outputs": [],
   "source": []
  },
  {
   "cell_type": "code",
   "execution_count": 3,
   "metadata": {},
   "outputs": [
    {
     "data": {
      "text/plain": [
       "undefined"
      ]
     },
     "execution_count": 3,
     "metadata": {},
     "output_type": "execute_result"
    }
   ],
   "source": [
    "let player1=new MockPlayer(1, 62)\n",
    "player1.setShift(-12)\n",
    "player1.startSequence()"
   ]
  },
  {
   "cell_type": "code",
   "execution_count": 59,
   "metadata": {},
   "outputs": [
    {
     "data": {
      "text/plain": [
       "undefined"
      ]
     },
     "execution_count": 59,
     "metadata": {},
     "output_type": "execute_result"
    }
   ],
   "source": [
    "player0.startSequence()\n",
    "player1.startSequence()"
   ]
  },
  {
   "cell_type": "code",
   "execution_count": 57,
   "metadata": {},
   "outputs": [
    {
     "data": {
      "text/plain": [
       "undefined"
      ]
     },
     "execution_count": 57,
     "metadata": {},
     "output_type": "execute_result"
    }
   ],
   "source": [
    "player0.start()\n",
    "player1.start()"
   ]
  },
  {
   "cell_type": "code",
   "execution_count": 5,
   "metadata": {},
   "outputs": [
    {
     "data": {
      "text/plain": [
       "undefined"
      ]
     },
     "execution_count": 5,
     "metadata": {},
     "output_type": "execute_result"
    }
   ],
   "source": [
    "player0.reset()\n",
    "player1.reset()"
   ]
  },
  {
   "cell_type": "code",
   "execution_count": 19,
   "metadata": {},
   "outputs": [
    {
     "ename": "ReferenceError",
     "evalue": "player1 is not defined",
     "output_type": "error",
     "traceback": [
      "evalmachine.<anonymous>:2",
      "player1.stop()",
      "^",
      "",
      "ReferenceError: player1 is not defined",
      "    at evalmachine.<anonymous>:2:1",
      "    at ContextifyScript.Script.runInThisContext (vm.js:44:33)",
      "    at Object.runInThisContext (vm.js:116:38)",
      "    at run ([eval]:617:19)",
      "    at onRunRequest ([eval]:388:22)",
      "    at onMessage ([eval]:356:17)",
      "    at emitTwo (events.js:125:13)",
      "    at process.emit (events.js:213:7)",
      "    at emit (internal/child_process.js:774:12)",
      "    at _combinedTickCallback (internal/process/next_tick.js:141:11)"
     ]
    }
   ],
   "source": [
    "player0.stop()\n",
    "player1.stop()"
   ]
  },
  {
   "cell_type": "code",
   "execution_count": 35,
   "metadata": {},
   "outputs": [
    {
     "data": {
      "text/plain": [
       "[ 0, -12, 0, 0 ]"
      ]
     },
     "execution_count": 35,
     "metadata": {},
     "output_type": "execute_result"
    }
   ],
   "source": [
    "Root=C\n",
    "Kind=[0, -12, 0, 0]"
   ]
  },
  {
   "cell_type": "code",
   "execution_count": 4,
   "metadata": {},
   "outputs": [
    {
     "data": {
      "text/plain": [
       "undefined"
      ]
     },
     "execution_count": 4,
     "metadata": {},
     "output_type": "execute_result"
    }
   ],
   "source": [
    "player1.setShift(-12)"
   ]
  },
  {
   "cell_type": "code",
   "execution_count": null,
   "metadata": {
    "collapsed": true
   },
   "outputs": [],
   "source": []
  },
  {
   "cell_type": "code",
   "execution_count": null,
   "metadata": {
    "collapsed": true
   },
   "outputs": [],
   "source": []
  },
  {
   "cell_type": "code",
   "execution_count": null,
   "metadata": {
    "collapsed": true
   },
   "outputs": [],
   "source": []
  },
  {
   "cell_type": "code",
   "execution_count": null,
   "metadata": {
    "collapsed": true
   },
   "outputs": [],
   "source": []
  },
  {
   "cell_type": "code",
   "execution_count": null,
   "metadata": {
    "collapsed": true
   },
   "outputs": [],
   "source": []
  },
  {
   "cell_type": "code",
   "execution_count": 24,
   "metadata": {},
   "outputs": [
    {
     "data": {
      "text/plain": [
       "undefined"
      ]
     },
     "execution_count": 24,
     "metadata": {},
     "output_type": "execute_result"
    }
   ],
   "source": [
    "let player0=new MockPlayer(0, 70)\n",
    "player0.start()"
   ]
  },
  {
   "cell_type": "code",
   "execution_count": 4,
   "metadata": {},
   "outputs": [
    {
     "data": {
      "text/plain": [
       "undefined"
      ]
     },
     "execution_count": 4,
     "metadata": {},
     "output_type": "execute_result"
    }
   ],
   "source": [
    "let player2=new MockPlayer(2, 75)\n",
    "player2.start()"
   ]
  },
  {
   "cell_type": "code",
   "execution_count": 33,
   "metadata": {},
   "outputs": [
    {
     "data": {
      "text/plain": [
       "undefined"
      ]
     },
     "execution_count": 33,
     "metadata": {},
     "output_type": "execute_result"
    }
   ],
   "source": [
    "let player3=new MockPlayer(3, 80)\n",
    "player3.start()"
   ]
  },
  {
   "cell_type": "code",
   "execution_count": 5,
   "metadata": {},
   "outputs": [
    {
     "data": {
      "text/plain": [
       "undefined"
      ]
     },
     "execution_count": 5,
     "metadata": {},
     "output_type": "execute_result"
    }
   ],
   "source": [
    "player0.stop()"
   ]
  },
  {
   "cell_type": "code",
   "execution_count": 7,
   "metadata": {},
   "outputs": [
    {
     "data": {
      "text/plain": [
       "undefined"
      ]
     },
     "execution_count": 7,
     "metadata": {},
     "output_type": "execute_result"
    }
   ],
   "source": [
    "player1.stop()"
   ]
  },
  {
   "cell_type": "code",
   "execution_count": 17,
   "metadata": {},
   "outputs": [
    {
     "data": {
      "text/plain": [
       "undefined"
      ]
     },
     "execution_count": 17,
     "metadata": {},
     "output_type": "execute_result"
    }
   ],
   "source": [
    "player3.stop()"
   ]
  },
  {
   "cell_type": "code",
   "execution_count": null,
   "metadata": {
    "collapsed": true
   },
   "outputs": [],
   "source": []
  },
  {
   "cell_type": "code",
   "execution_count": 371,
   "metadata": {},
   "outputs": [
    {
     "data": {
      "text/plain": [
       "undefined"
      ]
     },
     "execution_count": 371,
     "metadata": {},
     "output_type": "execute_result"
    }
   ],
   "source": [
    "playMidi(1, C, Major, 100, 100)"
   ]
  },
  {
   "cell_type": "code",
   "execution_count": null,
   "metadata": {
    "collapsed": true
   },
   "outputs": [],
   "source": []
  }
 ],
 "metadata": {
  "kernelspec": {
   "display_name": "Javascript (Node.js)",
   "language": "javascript",
   "name": "javascript"
  },
  "language_info": {
   "file_extension": ".js",
   "mimetype": "application/javascript",
   "name": "javascript",
   "version": "8.4.0"
  }
 },
 "nbformat": 4,
 "nbformat_minor": 2
}
